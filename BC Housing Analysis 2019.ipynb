{
 "cells": [
  {
   "cell_type": "code",
   "execution_count": 307,
   "metadata": {},
   "outputs": [
    {
     "data": {
      "text/html": [
       "<div>\n",
       "<style scoped>\n",
       "    .dataframe tbody tr th:only-of-type {\n",
       "        vertical-align: middle;\n",
       "    }\n",
       "\n",
       "    .dataframe tbody tr th {\n",
       "        vertical-align: top;\n",
       "    }\n",
       "\n",
       "    .dataframe thead th {\n",
       "        text-align: right;\n",
       "    }\n",
       "</style>\n",
       "<table border=\"1\" class=\"dataframe\">\n",
       "  <thead>\n",
       "    <tr style=\"text-align: right;\">\n",
       "      <th></th>\n",
       "      <th>Date</th>\n",
       "      <th>Type</th>\n",
       "      <th>Ask</th>\n",
       "      <th>Sold</th>\n",
       "      <th>DOM</th>\n",
       "      <th>sqft</th>\n",
       "      <th>Floors</th>\n",
       "      <th>Strata_Fee</th>\n",
       "      <th>Build_Year</th>\n",
       "    </tr>\n",
       "  </thead>\n",
       "  <tbody>\n",
       "    <tr>\n",
       "      <th>0</th>\n",
       "      <td>2019-01-25</td>\n",
       "      <td>1B1W</td>\n",
       "      <td>279900</td>\n",
       "      <td>267000</td>\n",
       "      <td>51</td>\n",
       "      <td>507</td>\n",
       "      <td>3</td>\n",
       "      <td>191</td>\n",
       "      <td>2008</td>\n",
       "    </tr>\n",
       "    <tr>\n",
       "      <th>1</th>\n",
       "      <td>2019-01-28</td>\n",
       "      <td>1B1W</td>\n",
       "      <td>279000</td>\n",
       "      <td>270000</td>\n",
       "      <td>38</td>\n",
       "      <td>441</td>\n",
       "      <td>1</td>\n",
       "      <td>206</td>\n",
       "      <td>2008</td>\n",
       "    </tr>\n",
       "    <tr>\n",
       "      <th>2</th>\n",
       "      <td>2019-03-19</td>\n",
       "      <td>1B1W</td>\n",
       "      <td>286500</td>\n",
       "      <td>286500</td>\n",
       "      <td>10</td>\n",
       "      <td>447</td>\n",
       "      <td>2</td>\n",
       "      <td>206</td>\n",
       "      <td>2007</td>\n",
       "    </tr>\n",
       "    <tr>\n",
       "      <th>3</th>\n",
       "      <td>2019-03-29</td>\n",
       "      <td>1B1W</td>\n",
       "      <td>349900</td>\n",
       "      <td>349900</td>\n",
       "      <td>1</td>\n",
       "      <td>606</td>\n",
       "      <td>3</td>\n",
       "      <td>211</td>\n",
       "      <td>2008</td>\n",
       "    </tr>\n",
       "    <tr>\n",
       "      <th>4</th>\n",
       "      <td>2019-04-02</td>\n",
       "      <td>1B1W</td>\n",
       "      <td>349600</td>\n",
       "      <td>342200</td>\n",
       "      <td>11</td>\n",
       "      <td>556</td>\n",
       "      <td>2</td>\n",
       "      <td>261</td>\n",
       "      <td>2007</td>\n",
       "    </tr>\n",
       "  </tbody>\n",
       "</table>\n",
       "</div>"
      ],
      "text/plain": [
       "        Date  Type     Ask    Sold  DOM  sqft  Floors  Strata_Fee  Build_Year\n",
       "0 2019-01-25  1B1W  279900  267000   51   507       3         191        2008\n",
       "1 2019-01-28  1B1W  279000  270000   38   441       1         206        2008\n",
       "2 2019-03-19  1B1W  286500  286500   10   447       2         206        2007\n",
       "3 2019-03-29  1B1W  349900  349900    1   606       3         211        2008\n",
       "4 2019-04-02  1B1W  349600  342200   11   556       2         261        2007"
      ]
     },
     "execution_count": 307,
     "metadata": {},
     "output_type": "execute_result"
    }
   ],
   "source": [
    "import pandas as pd\n",
    "\n",
    "df = pd.read_csv(\"bcHouse2019.csv\", encoding=\"latin\")\n",
    "df.to_csv(\"BC2019.csv\", encoding='utf-8', index=False) #convert back to utf-8 encoding\n",
    "df = pd.read_csv(\"BC2019.csv\", encoding=\"utf-8\")\n",
    "df[\"Date\"] = pd.to_datetime(df[\"Date\"])\n",
    "df.head()"
   ]
  },
  {
   "cell_type": "code",
   "execution_count": 276,
   "metadata": {},
   "outputs": [
    {
     "data": {
      "text/html": [
       "<div>\n",
       "<style scoped>\n",
       "    .dataframe tbody tr th:only-of-type {\n",
       "        vertical-align: middle;\n",
       "    }\n",
       "\n",
       "    .dataframe tbody tr th {\n",
       "        vertical-align: top;\n",
       "    }\n",
       "\n",
       "    .dataframe thead th {\n",
       "        text-align: right;\n",
       "    }\n",
       "</style>\n",
       "<table border=\"1\" class=\"dataframe\">\n",
       "  <thead>\n",
       "    <tr style=\"text-align: right;\">\n",
       "      <th></th>\n",
       "      <th>Type</th>\n",
       "      <th>Ask</th>\n",
       "      <th>Sold</th>\n",
       "      <th>DOM</th>\n",
       "      <th>sqft</th>\n",
       "      <th>Floors</th>\n",
       "      <th>Strata_Fee</th>\n",
       "      <th>Build_Year</th>\n",
       "    </tr>\n",
       "    <tr>\n",
       "      <th>Date</th>\n",
       "      <th></th>\n",
       "      <th></th>\n",
       "      <th></th>\n",
       "      <th></th>\n",
       "      <th></th>\n",
       "      <th></th>\n",
       "      <th></th>\n",
       "      <th></th>\n",
       "    </tr>\n",
       "  </thead>\n",
       "  <tbody>\n",
       "    <tr>\n",
       "      <th>2019-01-25</th>\n",
       "      <td>1B1W</td>\n",
       "      <td>279900</td>\n",
       "      <td>267000</td>\n",
       "      <td>51</td>\n",
       "      <td>507</td>\n",
       "      <td>3</td>\n",
       "      <td>191</td>\n",
       "      <td>2008</td>\n",
       "    </tr>\n",
       "    <tr>\n",
       "      <th>2019-01-28</th>\n",
       "      <td>1B1W</td>\n",
       "      <td>279000</td>\n",
       "      <td>270000</td>\n",
       "      <td>38</td>\n",
       "      <td>441</td>\n",
       "      <td>1</td>\n",
       "      <td>206</td>\n",
       "      <td>2008</td>\n",
       "    </tr>\n",
       "    <tr>\n",
       "      <th>2019-03-19</th>\n",
       "      <td>1B1W</td>\n",
       "      <td>286500</td>\n",
       "      <td>286500</td>\n",
       "      <td>10</td>\n",
       "      <td>447</td>\n",
       "      <td>2</td>\n",
       "      <td>206</td>\n",
       "      <td>2007</td>\n",
       "    </tr>\n",
       "    <tr>\n",
       "      <th>2019-03-29</th>\n",
       "      <td>1B1W</td>\n",
       "      <td>349900</td>\n",
       "      <td>349900</td>\n",
       "      <td>1</td>\n",
       "      <td>606</td>\n",
       "      <td>3</td>\n",
       "      <td>211</td>\n",
       "      <td>2008</td>\n",
       "    </tr>\n",
       "    <tr>\n",
       "      <th>2019-04-02</th>\n",
       "      <td>1B1W</td>\n",
       "      <td>349600</td>\n",
       "      <td>342200</td>\n",
       "      <td>11</td>\n",
       "      <td>556</td>\n",
       "      <td>2</td>\n",
       "      <td>261</td>\n",
       "      <td>2007</td>\n",
       "    </tr>\n",
       "  </tbody>\n",
       "</table>\n",
       "</div>"
      ],
      "text/plain": [
       "            Type     Ask    Sold  DOM  sqft  Floors  Strata_Fee  Build_Year\n",
       "Date                                                                       \n",
       "2019-01-25  1B1W  279900  267000   51   507       3         191        2008\n",
       "2019-01-28  1B1W  279000  270000   38   441       1         206        2008\n",
       "2019-03-19  1B1W  286500  286500   10   447       2         206        2007\n",
       "2019-03-29  1B1W  349900  349900    1   606       3         211        2008\n",
       "2019-04-02  1B1W  349600  342200   11   556       2         261        2007"
      ]
     },
     "execution_count": 276,
     "metadata": {},
     "output_type": "execute_result"
    }
   ],
   "source": [
    "first = df.set_index(\"Date\")\n",
    "first.head()"
   ]
  },
  {
   "cell_type": "code",
   "execution_count": 277,
   "metadata": {},
   "outputs": [
    {
     "data": {
      "text/plain": [
       "<matplotlib.axes._subplots.AxesSubplot at 0x28034c9f908>"
      ]
     },
     "execution_count": 277,
     "metadata": {},
     "output_type": "execute_result"
    },
    {
     "data": {
      "image/png": "[encoded data removed]",
      "text/plain": [
       "<Figure size 432x288 with 1 Axes>"
      ]
     },
     "metadata": {
      "needs_background": "light"
     },
     "output_type": "display_data"
    }
   ],
   "source": [
    "first.plot()"
   ]
  },
  {
   "cell_type": "code",
   "execution_count": 278,
   "metadata": {},
   "outputs": [
    {
     "data": {
      "text/plain": [
       "<matplotlib.axes._subplots.AxesSubplot at 0x28034d1c3c8>"
      ]
     },
     "execution_count": 278,
     "metadata": {},
     "output_type": "execute_result"
    },
    {
     "data": {
      "image/png": "[encoded data removed]",
      "text/plain": [
       "<Figure size 432x288 with 1 Axes>"
      ]
     },
     "metadata": {
      "needs_background": "light"
     },
     "output_type": "display_data"
    }
   ],
   "source": [
    "first[[\"Ask\",\"Sold\"]].plot()"
   ]
  },
  {
   "cell_type": "code",
   "execution_count": 279,
   "metadata": {},
   "outputs": [
    {
     "data": {
      "text/html": [
       "<div>\n",
       "<style scoped>\n",
       "    .dataframe tbody tr th:only-of-type {\n",
       "        vertical-align: middle;\n",
       "    }\n",
       "\n",
       "    .dataframe tbody tr th {\n",
       "        vertical-align: top;\n",
       "    }\n",
       "\n",
       "    .dataframe thead th {\n",
       "        text-align: right;\n",
       "    }\n",
       "</style>\n",
       "<table border=\"1\" class=\"dataframe\">\n",
       "  <thead>\n",
       "    <tr style=\"text-align: right;\">\n",
       "      <th></th>\n",
       "      <th>Date</th>\n",
       "      <th>Type</th>\n",
       "      <th>Ask</th>\n",
       "      <th>Sold</th>\n",
       "      <th>DOM</th>\n",
       "      <th>sqft</th>\n",
       "      <th>Floors</th>\n",
       "      <th>Strata_Fee</th>\n",
       "      <th>Build_Year</th>\n",
       "    </tr>\n",
       "  </thead>\n",
       "  <tbody>\n",
       "    <tr>\n",
       "      <th>0</th>\n",
       "      <td>2019-01-25</td>\n",
       "      <td>1B1W</td>\n",
       "      <td>279900</td>\n",
       "      <td>267000</td>\n",
       "      <td>51</td>\n",
       "      <td>507</td>\n",
       "      <td>3</td>\n",
       "      <td>191</td>\n",
       "      <td>2008</td>\n",
       "    </tr>\n",
       "    <tr>\n",
       "      <th>1</th>\n",
       "      <td>2019-01-28</td>\n",
       "      <td>1B1W</td>\n",
       "      <td>279000</td>\n",
       "      <td>270000</td>\n",
       "      <td>38</td>\n",
       "      <td>441</td>\n",
       "      <td>1</td>\n",
       "      <td>206</td>\n",
       "      <td>2008</td>\n",
       "    </tr>\n",
       "    <tr>\n",
       "      <th>2</th>\n",
       "      <td>2019-03-19</td>\n",
       "      <td>1B1W</td>\n",
       "      <td>286500</td>\n",
       "      <td>286500</td>\n",
       "      <td>10</td>\n",
       "      <td>447</td>\n",
       "      <td>2</td>\n",
       "      <td>206</td>\n",
       "      <td>2007</td>\n",
       "    </tr>\n",
       "    <tr>\n",
       "      <th>3</th>\n",
       "      <td>2019-03-29</td>\n",
       "      <td>1B1W</td>\n",
       "      <td>349900</td>\n",
       "      <td>349900</td>\n",
       "      <td>1</td>\n",
       "      <td>606</td>\n",
       "      <td>3</td>\n",
       "      <td>211</td>\n",
       "      <td>2008</td>\n",
       "    </tr>\n",
       "    <tr>\n",
       "      <th>4</th>\n",
       "      <td>2019-04-02</td>\n",
       "      <td>1B1W</td>\n",
       "      <td>349600</td>\n",
       "      <td>342200</td>\n",
       "      <td>11</td>\n",
       "      <td>556</td>\n",
       "      <td>2</td>\n",
       "      <td>261</td>\n",
       "      <td>2007</td>\n",
       "    </tr>\n",
       "  </tbody>\n",
       "</table>\n",
       "</div>"
      ],
      "text/plain": [
       "        Date  Type     Ask    Sold  DOM  sqft  Floors  Strata_Fee  Build_Year\n",
       "0 2019-01-25  1B1W  279900  267000   51   507       3         191        2008\n",
       "1 2019-01-28  1B1W  279000  270000   38   441       1         206        2008\n",
       "2 2019-03-19  1B1W  286500  286500   10   447       2         206        2007\n",
       "3 2019-03-29  1B1W  349900  349900    1   606       3         211        2008\n",
       "4 2019-04-02  1B1W  349600  342200   11   556       2         261        2007"
      ]
     },
     "execution_count": 279,
     "metadata": {},
     "output_type": "execute_result"
    }
   ],
   "source": [
    "df.head()"
   ]
  },
  {
   "cell_type": "code",
   "execution_count": 280,
   "metadata": {},
   "outputs": [
    {
     "data": {
      "text/plain": [
       "array(['1B1W', '1B2W', '2B2B', '2B1W'], dtype=object)"
      ]
     },
     "execution_count": 280,
     "metadata": {},
     "output_type": "execute_result"
    }
   ],
   "source": [
    "df[\"Type\"].unique()"
   ]
  },
  {
   "cell_type": "code",
   "execution_count": 281,
   "metadata": {},
   "outputs": [
    {
     "name": "stdout",
     "output_type": "stream",
     "text": [
      "1B1W\n",
      "1B2W\n",
      "2B1W\n",
      "2B2B\n"
     ]
    }
   ],
   "source": [
    "for name,group in df.groupby(\"Type\"):\n",
    "    print (name)"
   ]
  },
  {
   "cell_type": "code",
   "execution_count": 282,
   "metadata": {},
   "outputs": [
    {
     "data": {
      "text/html": [
       "<div>\n",
       "<style scoped>\n",
       "    .dataframe tbody tr th:only-of-type {\n",
       "        vertical-align: middle;\n",
       "    }\n",
       "\n",
       "    .dataframe tbody tr th {\n",
       "        vertical-align: top;\n",
       "    }\n",
       "\n",
       "    .dataframe thead th {\n",
       "        text-align: right;\n",
       "    }\n",
       "</style>\n",
       "<table border=\"1\" class=\"dataframe\">\n",
       "  <thead>\n",
       "    <tr style=\"text-align: right;\">\n",
       "      <th></th>\n",
       "      <th>ask_1B1W</th>\n",
       "      <th>sold_1B1W</th>\n",
       "    </tr>\n",
       "    <tr>\n",
       "      <th>Date</th>\n",
       "      <th></th>\n",
       "      <th></th>\n",
       "    </tr>\n",
       "  </thead>\n",
       "  <tbody>\n",
       "    <tr>\n",
       "      <th>2019-01-25</th>\n",
       "      <td>279900</td>\n",
       "      <td>267000</td>\n",
       "    </tr>\n",
       "    <tr>\n",
       "      <th>2019-01-28</th>\n",
       "      <td>279000</td>\n",
       "      <td>270000</td>\n",
       "    </tr>\n",
       "    <tr>\n",
       "      <th>2019-03-19</th>\n",
       "      <td>286500</td>\n",
       "      <td>286500</td>\n",
       "    </tr>\n",
       "    <tr>\n",
       "      <th>2019-03-29</th>\n",
       "      <td>349900</td>\n",
       "      <td>349900</td>\n",
       "    </tr>\n",
       "    <tr>\n",
       "      <th>2019-04-02</th>\n",
       "      <td>349600</td>\n",
       "      <td>342200</td>\n",
       "    </tr>\n",
       "    <tr>\n",
       "      <th>2019-04-09</th>\n",
       "      <td>389000</td>\n",
       "      <td>360000</td>\n",
       "    </tr>\n",
       "    <tr>\n",
       "      <th>2019-04-18</th>\n",
       "      <td>329900</td>\n",
       "      <td>315000</td>\n",
       "    </tr>\n",
       "    <tr>\n",
       "      <th>2019-04-24</th>\n",
       "      <td>299900</td>\n",
       "      <td>282000</td>\n",
       "    </tr>\n",
       "    <tr>\n",
       "      <th>2019-05-17</th>\n",
       "      <td>349900</td>\n",
       "      <td>318000</td>\n",
       "    </tr>\n",
       "    <tr>\n",
       "      <th>2019-05-17</th>\n",
       "      <td>349900</td>\n",
       "      <td>324500</td>\n",
       "    </tr>\n",
       "    <tr>\n",
       "      <th>2019-05-17</th>\n",
       "      <td>359900</td>\n",
       "      <td>318000</td>\n",
       "    </tr>\n",
       "    <tr>\n",
       "      <th>2019-05-17</th>\n",
       "      <td>359900</td>\n",
       "      <td>324500</td>\n",
       "    </tr>\n",
       "    <tr>\n",
       "      <th>2019-05-29</th>\n",
       "      <td>360000</td>\n",
       "      <td>347500</td>\n",
       "    </tr>\n",
       "    <tr>\n",
       "      <th>2019-06-21</th>\n",
       "      <td>319900</td>\n",
       "      <td>315000</td>\n",
       "    </tr>\n",
       "    <tr>\n",
       "      <th>2019-07-03</th>\n",
       "      <td>315900</td>\n",
       "      <td>300000</td>\n",
       "    </tr>\n",
       "    <tr>\n",
       "      <th>2019-09-04</th>\n",
       "      <td>259000</td>\n",
       "      <td>250000</td>\n",
       "    </tr>\n",
       "    <tr>\n",
       "      <th>2019-09-06</th>\n",
       "      <td>354900</td>\n",
       "      <td>343000</td>\n",
       "    </tr>\n",
       "    <tr>\n",
       "      <th>2019-11-25</th>\n",
       "      <td>395000</td>\n",
       "      <td>381500</td>\n",
       "    </tr>\n",
       "  </tbody>\n",
       "</table>\n",
       "</div>"
      ],
      "text/plain": [
       "            ask_1B1W  sold_1B1W\n",
       "Date                           \n",
       "2019-01-25    279900     267000\n",
       "2019-01-28    279000     270000\n",
       "2019-03-19    286500     286500\n",
       "2019-03-29    349900     349900\n",
       "2019-04-02    349600     342200\n",
       "2019-04-09    389000     360000\n",
       "2019-04-18    329900     315000\n",
       "2019-04-24    299900     282000\n",
       "2019-05-17    349900     318000\n",
       "2019-05-17    349900     324500\n",
       "2019-05-17    359900     318000\n",
       "2019-05-17    359900     324500\n",
       "2019-05-29    360000     347500\n",
       "2019-06-21    319900     315000\n",
       "2019-07-03    315900     300000\n",
       "2019-09-04    259000     250000\n",
       "2019-09-06    354900     343000\n",
       "2019-11-25    395000     381500"
      ]
     },
     "execution_count": 282,
     "metadata": {},
     "output_type": "execute_result"
    }
   ],
   "source": [
    "ask_sell = pd.DataFrame()\n",
    "\n",
    "for name, group in df.groupby(\"Type\"):\n",
    "    if ask_sell.empty and \"1B1W\" in name:\n",
    "        ask_sell = group.set_index(\"Date\")[[\"Ask\"]].rename(columns={\"Ask\":\"ask_\"+ name})\n",
    "        ask_sell = ask_sell.join(group.set_index(\"Date\")[[\"Sold\"]].rename(columns={\"Sold\":\"sold_\"+ name}))\n",
    "\n",
    "ask_sell"
   ]
  },
  {
   "cell_type": "code",
   "execution_count": 283,
   "metadata": {},
   "outputs": [
    {
     "data": {
      "text/plain": [
       "<matplotlib.axes._subplots.AxesSubplot at 0x28034dc0848>"
      ]
     },
     "execution_count": 283,
     "metadata": {},
     "output_type": "execute_result"
    },
    {
     "data": {
      "image/png": "[encoded data removed]",
      "text/plain": [
       "<Figure size 576x360 with 1 Axes>"
      ]
     },
     "metadata": {
      "needs_background": "light"
     },
     "output_type": "display_data"
    }
   ],
   "source": [
    "ask_sell.plot(figsize=(8, 5), legend=True)"
   ]
  },
  {
   "cell_type": "code",
   "execution_count": 284,
   "metadata": {},
   "outputs": [
    {
     "data": {
      "text/plain": [
       "(737091.0, 737394.0)"
      ]
     },
     "execution_count": 284,
     "metadata": {},
     "output_type": "execute_result"
    },
    {
     "data": {
      "image/png": "[encoded data removed]",
      "text/plain": [
       "<Figure size 576x360 with 1 Axes>"
      ]
     },
     "metadata": {
      "needs_background": "light"
     },
     "output_type": "display_data"
    }
   ],
   "source": [
    "clear_asksell = ask_sell.dropna().plot(figsize=(8, 5), legend=True)\n",
    "clear_asksell.set_xlim(pd.Timestamp(\"2019-02\"), pd.Timestamp(\"2019-12\"))"
   ]
  },
  {
   "cell_type": "code",
   "execution_count": 285,
   "metadata": {},
   "outputs": [
    {
     "data": {
      "text/html": [
       "<div>\n",
       "<style scoped>\n",
       "    .dataframe tbody tr th:only-of-type {\n",
       "        vertical-align: middle;\n",
       "    }\n",
       "\n",
       "    .dataframe tbody tr th {\n",
       "        vertical-align: top;\n",
       "    }\n",
       "\n",
       "    .dataframe thead th {\n",
       "        text-align: right;\n",
       "    }\n",
       "</style>\n",
       "<table border=\"1\" class=\"dataframe\">\n",
       "  <thead>\n",
       "    <tr style=\"text-align: right;\">\n",
       "      <th></th>\n",
       "      <th>ask_1B1W</th>\n",
       "      <th>sold_1B1W</th>\n",
       "    </tr>\n",
       "  </thead>\n",
       "  <tbody>\n",
       "    <tr>\n",
       "      <th>count</th>\n",
       "      <td>18.000000</td>\n",
       "      <td>18.000000</td>\n",
       "    </tr>\n",
       "    <tr>\n",
       "      <th>mean</th>\n",
       "      <td>332666.666667</td>\n",
       "      <td>316366.666667</td>\n",
       "    </tr>\n",
       "    <tr>\n",
       "      <th>std</th>\n",
       "      <td>38888.467972</td>\n",
       "      <td>35222.385930</td>\n",
       "    </tr>\n",
       "    <tr>\n",
       "      <th>min</th>\n",
       "      <td>259000.000000</td>\n",
       "      <td>250000.000000</td>\n",
       "    </tr>\n",
       "    <tr>\n",
       "      <th>25%</th>\n",
       "      <td>303900.000000</td>\n",
       "      <td>289875.000000</td>\n",
       "    </tr>\n",
       "    <tr>\n",
       "      <th>50%</th>\n",
       "      <td>349750.000000</td>\n",
       "      <td>318000.000000</td>\n",
       "    </tr>\n",
       "    <tr>\n",
       "      <th>75%</th>\n",
       "      <td>358650.000000</td>\n",
       "      <td>342800.000000</td>\n",
       "    </tr>\n",
       "    <tr>\n",
       "      <th>max</th>\n",
       "      <td>395000.000000</td>\n",
       "      <td>381500.000000</td>\n",
       "    </tr>\n",
       "  </tbody>\n",
       "</table>\n",
       "</div>"
      ],
      "text/plain": [
       "            ask_1B1W      sold_1B1W\n",
       "count      18.000000      18.000000\n",
       "mean   332666.666667  316366.666667\n",
       "std     38888.467972   35222.385930\n",
       "min    259000.000000  250000.000000\n",
       "25%    303900.000000  289875.000000\n",
       "50%    349750.000000  318000.000000\n",
       "75%    358650.000000  342800.000000\n",
       "max    395000.000000  381500.000000"
      ]
     },
     "execution_count": 285,
     "metadata": {},
     "output_type": "execute_result"
    }
   ],
   "source": [
    "ask_sell.describe()"
   ]
  },
  {
   "cell_type": "code",
   "execution_count": 308,
   "metadata": {},
   "outputs": [
    {
     "data": {
      "text/html": [
       "<div>\n",
       "<style scoped>\n",
       "    .dataframe tbody tr th:only-of-type {\n",
       "        vertical-align: middle;\n",
       "    }\n",
       "\n",
       "    .dataframe tbody tr th {\n",
       "        vertical-align: top;\n",
       "    }\n",
       "\n",
       "    .dataframe thead th {\n",
       "        text-align: right;\n",
       "    }\n",
       "</style>\n",
       "<table border=\"1\" class=\"dataframe\">\n",
       "  <thead>\n",
       "    <tr style=\"text-align: right;\">\n",
       "      <th></th>\n",
       "      <th>Date</th>\n",
       "      <th>Type</th>\n",
       "      <th>Ask</th>\n",
       "      <th>Sold</th>\n",
       "      <th>DOM</th>\n",
       "      <th>sqft</th>\n",
       "      <th>Floors</th>\n",
       "      <th>Strata_Fee</th>\n",
       "      <th>Build_Year</th>\n",
       "    </tr>\n",
       "  </thead>\n",
       "  <tbody>\n",
       "    <tr>\n",
       "      <th>0</th>\n",
       "      <td>2019-01-25</td>\n",
       "      <td>1B1W</td>\n",
       "      <td>279900</td>\n",
       "      <td>267000</td>\n",
       "      <td>51</td>\n",
       "      <td>507</td>\n",
       "      <td>3</td>\n",
       "      <td>191</td>\n",
       "      <td>2008</td>\n",
       "    </tr>\n",
       "    <tr>\n",
       "      <th>1</th>\n",
       "      <td>2019-01-28</td>\n",
       "      <td>1B1W</td>\n",
       "      <td>279000</td>\n",
       "      <td>270000</td>\n",
       "      <td>38</td>\n",
       "      <td>441</td>\n",
       "      <td>1</td>\n",
       "      <td>206</td>\n",
       "      <td>2008</td>\n",
       "    </tr>\n",
       "    <tr>\n",
       "      <th>2</th>\n",
       "      <td>2019-03-19</td>\n",
       "      <td>1B1W</td>\n",
       "      <td>286500</td>\n",
       "      <td>286500</td>\n",
       "      <td>10</td>\n",
       "      <td>447</td>\n",
       "      <td>2</td>\n",
       "      <td>206</td>\n",
       "      <td>2007</td>\n",
       "    </tr>\n",
       "    <tr>\n",
       "      <th>3</th>\n",
       "      <td>2019-03-29</td>\n",
       "      <td>1B1W</td>\n",
       "      <td>349900</td>\n",
       "      <td>349900</td>\n",
       "      <td>1</td>\n",
       "      <td>606</td>\n",
       "      <td>3</td>\n",
       "      <td>211</td>\n",
       "      <td>2008</td>\n",
       "    </tr>\n",
       "    <tr>\n",
       "      <th>4</th>\n",
       "      <td>2019-04-02</td>\n",
       "      <td>1B1W</td>\n",
       "      <td>349600</td>\n",
       "      <td>342200</td>\n",
       "      <td>11</td>\n",
       "      <td>556</td>\n",
       "      <td>2</td>\n",
       "      <td>261</td>\n",
       "      <td>2007</td>\n",
       "    </tr>\n",
       "  </tbody>\n",
       "</table>\n",
       "</div>"
      ],
      "text/plain": [
       "        Date  Type     Ask    Sold  DOM  sqft  Floors  Strata_Fee  Build_Year\n",
       "0 2019-01-25  1B1W  279900  267000   51   507       3         191        2008\n",
       "1 2019-01-28  1B1W  279000  270000   38   441       1         206        2008\n",
       "2 2019-03-19  1B1W  286500  286500   10   447       2         206        2007\n",
       "3 2019-03-29  1B1W  349900  349900    1   606       3         211        2008\n",
       "4 2019-04-02  1B1W  349600  342200   11   556       2         261        2007"
      ]
     },
     "execution_count": 308,
     "metadata": {},
     "output_type": "execute_result"
    }
   ],
   "source": [
    "onebb = df[df[\"Type\"] == \"1B1W\"]\n",
    "onebb.head()"
   ]
  },
  {
   "cell_type": "code",
   "execution_count": 297,
   "metadata": {},
   "outputs": [
    {
     "data": {
      "text/html": [
       "<div>\n",
       "<style scoped>\n",
       "    .dataframe tbody tr th:only-of-type {\n",
       "        vertical-align: middle;\n",
       "    }\n",
       "\n",
       "    .dataframe tbody tr th {\n",
       "        vertical-align: top;\n",
       "    }\n",
       "\n",
       "    .dataframe thead th {\n",
       "        text-align: right;\n",
       "    }\n",
       "</style>\n",
       "<table border=\"1\" class=\"dataframe\">\n",
       "  <thead>\n",
       "    <tr style=\"text-align: right;\">\n",
       "      <th></th>\n",
       "      <th>Ask</th>\n",
       "      <th>Sold</th>\n",
       "      <th>DOM</th>\n",
       "      <th>sqft</th>\n",
       "      <th>Floors</th>\n",
       "      <th>Strata_Fee</th>\n",
       "      <th>Build_Year</th>\n",
       "    </tr>\n",
       "  </thead>\n",
       "  <tbody>\n",
       "    <tr>\n",
       "      <th>Ask</th>\n",
       "      <td>1.000000</td>\n",
       "      <td>0.967812</td>\n",
       "      <td>0.343956</td>\n",
       "      <td>0.845174</td>\n",
       "      <td>0.527760</td>\n",
       "      <td>0.477031</td>\n",
       "      <td>0.518136</td>\n",
       "    </tr>\n",
       "    <tr>\n",
       "      <th>Sold</th>\n",
       "      <td>0.967812</td>\n",
       "      <td>1.000000</td>\n",
       "      <td>0.181546</td>\n",
       "      <td>0.835640</td>\n",
       "      <td>0.457204</td>\n",
       "      <td>0.468437</td>\n",
       "      <td>0.509937</td>\n",
       "    </tr>\n",
       "    <tr>\n",
       "      <th>DOM</th>\n",
       "      <td>0.343956</td>\n",
       "      <td>0.181546</td>\n",
       "      <td>1.000000</td>\n",
       "      <td>0.147165</td>\n",
       "      <td>0.624339</td>\n",
       "      <td>0.199907</td>\n",
       "      <td>-0.098435</td>\n",
       "    </tr>\n",
       "    <tr>\n",
       "      <th>sqft</th>\n",
       "      <td>0.845174</td>\n",
       "      <td>0.835640</td>\n",
       "      <td>0.147165</td>\n",
       "      <td>1.000000</td>\n",
       "      <td>0.365521</td>\n",
       "      <td>0.433273</td>\n",
       "      <td>0.710430</td>\n",
       "    </tr>\n",
       "    <tr>\n",
       "      <th>Floors</th>\n",
       "      <td>0.527760</td>\n",
       "      <td>0.457204</td>\n",
       "      <td>0.624339</td>\n",
       "      <td>0.365521</td>\n",
       "      <td>1.000000</td>\n",
       "      <td>-0.053928</td>\n",
       "      <td>0.054832</td>\n",
       "    </tr>\n",
       "    <tr>\n",
       "      <th>Strata_Fee</th>\n",
       "      <td>0.477031</td>\n",
       "      <td>0.468437</td>\n",
       "      <td>0.199907</td>\n",
       "      <td>0.433273</td>\n",
       "      <td>-0.053928</td>\n",
       "      <td>1.000000</td>\n",
       "      <td>0.249814</td>\n",
       "    </tr>\n",
       "    <tr>\n",
       "      <th>Build_Year</th>\n",
       "      <td>0.518136</td>\n",
       "      <td>0.509937</td>\n",
       "      <td>-0.098435</td>\n",
       "      <td>0.710430</td>\n",
       "      <td>0.054832</td>\n",
       "      <td>0.249814</td>\n",
       "      <td>1.000000</td>\n",
       "    </tr>\n",
       "  </tbody>\n",
       "</table>\n",
       "</div>"
      ],
      "text/plain": [
       "                 Ask      Sold       DOM      sqft    Floors  Strata_Fee  \\\n",
       "Ask         1.000000  0.967812  0.343956  0.845174  0.527760    0.477031   \n",
       "Sold        0.967812  1.000000  0.181546  0.835640  0.457204    0.468437   \n",
       "DOM         0.343956  0.181546  1.000000  0.147165  0.624339    0.199907   \n",
       "sqft        0.845174  0.835640  0.147165  1.000000  0.365521    0.433273   \n",
       "Floors      0.527760  0.457204  0.624339  0.365521  1.000000   -0.053928   \n",
       "Strata_Fee  0.477031  0.468437  0.199907  0.433273 -0.053928    1.000000   \n",
       "Build_Year  0.518136  0.509937 -0.098435  0.710430  0.054832    0.249814   \n",
       "\n",
       "            Build_Year  \n",
       "Ask           0.518136  \n",
       "Sold          0.509937  \n",
       "DOM          -0.098435  \n",
       "sqft          0.710430  \n",
       "Floors        0.054832  \n",
       "Strata_Fee    0.249814  \n",
       "Build_Year    1.000000  "
      ]
     },
     "execution_count": 297,
     "metadata": {},
     "output_type": "execute_result"
    }
   ],
   "source": [
    "onebb_corr = onebb.corr()\n",
    "onebb_corr"
   ]
  },
  {
   "cell_type": "code",
   "execution_count": 306,
   "metadata": {},
   "outputs": [
    {
     "data": {
      "image/png": "[encoded data removed]",
      "text/plain": [
       "<Figure size 864x864 with 1 Axes>"
      ]
     },
     "metadata": {
      "needs_background": "light"
     },
     "output_type": "display_data"
    }
   ],
   "source": [
    "import matplotlib.pyplot as plt\n",
    "import numpy as np\n",
    "\n",
    "labels = onebb_corr.columns\n",
    "fig = plt.figure(figsize=(12, 12))\n",
    "ax = fig.add_subplot(111)\n",
    "ax.matshow(onebb_corr, cmap = plt.cm.RdYlGn)\n",
    "\n",
    "ax.set_xticks(np.arange(len(labels)))\n",
    "ax.set_yticks(np.arange(len(labels)))\n",
    "ax.set_xticklabels(labels)\n",
    "ax.set_yticklabels(labels)\n",
    "\n",
    "plt.show()"
   ]
  },
  {
   "cell_type": "code",
   "execution_count": null,
   "metadata": {},
   "outputs": [],
   "source": []
  }
 ],
 "metadata": {
  "kernelspec": {
   "display_name": "Python 3",
   "language": "python",
   "name": "python3"
  },
  "language_info": {
   "codemirror_mode": {
    "name": "ipython",
    "version": 3
   },
   "file_extension": ".py",
   "mimetype": "text/x-python",
   "name": "python",
   "nbconvert_exporter": "python",
   "pygments_lexer": "ipython3",
   "version": "3.7.6"
  }
 },
 "nbformat": 4,
 "nbformat_minor": 4
}
